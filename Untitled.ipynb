{
 "cells": [
  {
   "cell_type": "code",
   "execution_count": 1,
   "source": [
    "import pandas as pd #Para ler o arquivo csv\r\n",
    "import statistics #Para fazer cálculos estatísticos\r\n",
    "import matplotlib.pyplot as plt #Para desenvolver gráficos\r\n",
    "import seaborn as sns #Para desenvolver gráficos"
   ],
   "outputs": [],
   "metadata": {}
  },
  {
   "cell_type": "code",
   "execution_count": 2,
   "source": [
    "#Lendo o arquivo csv\r\n",
    "\r\n",
    "dados = pd.read_csv('CovidestressAtualizada1.csv', sep=';')"
   ],
   "outputs": [],
   "metadata": {}
  },
  {
   "cell_type": "markdown",
   "source": [
    "# Análise exploratória\r\n",
    "## Objetivos\r\n",
    "1-<br /> \r\n",
    "2-<br /> \r\n",
    "3-<br /> \r\n",
    "4-<br /> \r\n",
    "5-<br /> \r\n",
    "6-<br /> \r\n",
    "7-<br /> \r\n",
    "8-<br /> \r\n",
    "9-<br /> \r\n",
    "\r\n"
   ],
   "metadata": {}
  },
  {
   "cell_type": "code",
   "execution_count": 3,
   "source": [
    "# Total de pessoas que responderam essa pesquisa\r\n",
    "print(len(dados))"
   ],
   "outputs": [
    {
     "output_type": "stream",
     "name": "stdout",
     "text": [
      "125306\n"
     ]
    }
   ],
   "metadata": {}
  },
  {
   "cell_type": "code",
   "execution_count": 4,
   "source": [
    "media_idades_geral = statistics.mean(dados['Idade'])\r\n",
    "\r\n",
    "qtd_homens = dados[dados.Genero == 'Male']\r\n",
    "qtd_mulheres = dados[dados.Genero == 'Female']\r\n",
    "qtd_sem_genero = []\r\n",
    "\r\n",
    "for i in range(len(dados)):\r\n",
    "    if(dados['Genero'][i] != 'Female' and dados['Genero'][i] != 'Male'):\r\n",
    "        qtd_sem_genero.append(dados['Genero'][i])\r\n",
    "\r\n",
    "\r\n",
    "print(\"Quantidade de homens: \", len(qtd_homens))\r\n",
    "print(\"Quantidade de mulheres: \", len(qtd_mulheres))\r\n",
    "print(\"Quantidade de pessoas que não quiseram dizer seu gênero: \", len(qtd_sem_genero))"
   ],
   "outputs": [
    {
     "output_type": "stream",
     "name": "stdout",
     "text": [
      "Quantidade de homens:  33126\n",
      "Quantidade de mulheres:  90400\n",
      "Quantidade de pessoas que não quiseram dizer seu gênero:  1780\n"
     ]
    }
   ],
   "metadata": {}
  },
  {
   "cell_type": "code",
   "execution_count": 5,
   "source": [
    "idades_homens = []\r\n",
    "idades_mulheres = []\r\n",
    "for i in range(len(dados)):\r\n",
    "    if(dados['Genero'][i] == 'Male'):\r\n",
    "        idades_homens.append(dados['Idade'][i])\r\n",
    "    elif(dados['Genero'][i] == 'Female'):\r\n",
    "        idades_mulheres.append(dados['Idade'][i])"
   ],
   "outputs": [],
   "metadata": {}
  },
  {
   "cell_type": "code",
   "execution_count": 6,
   "source": [
    "media_idade_homens = statistics.mean(idades_homens)\r\n",
    "media_idade_mulheres = statistics.mean(idades_mulheres)\r\n",
    "print(\"Média de idade dos homens: \", media_idade_homens)\r\n",
    "print(\"Média de idade das mulheres: \", media_idade_mulheres)"
   ],
   "outputs": [
    {
     "output_type": "stream",
     "name": "stdout",
     "text": [
      "Média de idade dos homens:  38\n",
      "Média de idade das mulheres:  39\n"
     ]
    }
   ],
   "metadata": {}
  },
  {
   "cell_type": "markdown",
   "source": [
    "# Sobre UCLA\r\n",
    "## Ucla 1: 'Na última semana você se estressou com algo que aconteceu de maneira inesperada?'\r\n",
    "### As respostas vão de 1 a 5, onde:<br />1-Nenhuma vez<br />2-Poucas vezes<br />3-Algumas vezes<br />4-Normalmente<br />5-Quase sempre"
   ],
   "metadata": {}
  },
  {
   "cell_type": "code",
   "execution_count": 10,
   "source": [
    "ucla_um_masculino = []\r\n",
    "\r\n",
    "for i in range(len(dados)):\r\n",
    "    if(dados['Genero'][i] == 'Male'):\r\n",
    "        ucla_um_masculino.append(dados['PSS10_UCLA_1'][i])\r\n",
    "\r\n",
    "respostas_possiveis = [1,2,3,4,5]\r\n",
    "resp_um = [(i) for i in ucla_um_masculino if i==1]\r\n",
    "resp_dois = [(i) for i in ucla_um_masculino if i==2]\r\n",
    "resp_tres = [(i) for i in ucla_um_masculino if i==3]\r\n",
    "resp_quatro = [(i) for i in ucla_um_masculino if i==4]\r\n",
    "resp_cinco = [(i) for i in ucla_um_masculino if i==5]\r\n",
    "\r\n",
    "respostas_dadas = [len(resp_um), len(resp_dois), len(resp_tres), len(resp_quatro),len(resp_cinco)]\r\n",
    "plt.title(\"Respostas UCLA 1 do sexo masculino\")\r\n",
    "plt.xlabel(\"Alternativas\")\r\n",
    "plt.ylabel(\"Quantidade respondida\")\r\n",
    "plt.bar(respostas_possiveis, respostas_dadas)\r\n",
    "plt.show()"
   ],
   "outputs": [
    {
     "output_type": "display_data",
     "data": {
      "image/png": "[encoded data removed]",
      "text/plain": [
       "<Figure size 432x288 with 1 Axes>"
      ]
     },
     "metadata": {
      "needs_background": "light"
     }
    }
   ],
   "metadata": {}
  },
  {
   "cell_type": "code",
   "execution_count": 12,
   "source": [
    "ucla_um_feminino = []\r\n",
    "\r\n",
    "for i in range(len(dados)):\r\n",
    "    if(dados['Genero'][i] == 'Female'):\r\n",
    "        ucla_um_feminino.append(dados['PSS10_UCLA_1'][i])\r\n",
    "\r\n",
    "respostas_possiveis = [1,2,3,4,5]\r\n",
    "resp_um = [(i) for i in ucla_um_feminino if i==1]\r\n",
    "resp_dois = [(i) for i in ucla_um_feminino if i==2]\r\n",
    "resp_tres = [(i) for i in ucla_um_feminino if i==3]\r\n",
    "resp_quatro = [(i) for i in ucla_um_feminino if i==4]\r\n",
    "resp_cinco = [(i) for i in ucla_um_feminino if i==5]\r\n",
    "\r\n",
    "respostas_dadas = [len(resp_um), len(resp_dois), len(resp_tres), len(resp_quatro),len(resp_cinco)]\r\n",
    "plt.title(\"Respostas UCLA 1 do sexo feminino\")\r\n",
    "plt.xlabel(\"Alternativas\")\r\n",
    "plt.ylabel(\"Quantidade respondida\")\r\n",
    "plt.bar(respostas_possiveis, respostas_dadas)\r\n",
    "plt.show()"
   ],
   "outputs": [
    {
     "output_type": "display_data",
     "data": {
      "image/png": "[encoded data removed]",
      "text/plain": [
       "<Figure size 432x288 with 1 Axes>"
      ]
     },
     "metadata": {
      "needs_background": "light"
     }
    }
   ],
   "metadata": {}
  },
  {
   "cell_type": "code",
   "execution_count": null,
   "source": [
    "dados.head()"
   ],
   "outputs": [
    {
     "output_type": "execute_result",
     "data": {
      "text/html": [
       "<div>\n",
       "<style scoped>\n",
       "    .dataframe tbody tr th:only-of-type {\n",
       "        vertical-align: middle;\n",
       "    }\n",
       "\n",
       "    .dataframe tbody tr th {\n",
       "        vertical-align: top;\n",
       "    }\n",
       "\n",
       "    .dataframe thead th {\n",
       "        text-align: right;\n",
       "    }\n",
       "</style>\n",
       "<table border=\"1\" class=\"dataframe\">\n",
       "  <thead>\n",
       "    <tr style=\"text-align: right;\">\n",
       "      <th></th>\n",
       "      <th>Idade</th>\n",
       "      <th>Genero</th>\n",
       "      <th>Educacao</th>\n",
       "      <th>EducacaoMae</th>\n",
       "      <th>Empregado</th>\n",
       "      <th>Pais</th>\n",
       "      <th>Imigrante</th>\n",
       "      <th>Estado</th>\n",
       "      <th>EstadoCivil</th>\n",
       "      <th>Dependentes</th>\n",
       "      <th>...</th>\n",
       "      <th>ReduzDesconforVerTv</th>\n",
       "      <th>ReduzDesconforAjudarOutro</th>\n",
       "      <th>InfoGorverno</th>\n",
       "      <th>InfoBlog</th>\n",
       "      <th>InfoTrad</th>\n",
       "      <th>InfoFamiliares</th>\n",
       "      <th>InfoMidiaSoci</th>\n",
       "      <th>InfoComportPessoal</th>\n",
       "      <th>PSS10_avg</th>\n",
       "      <th>SLON3_avg</th>\n",
       "    </tr>\n",
       "  </thead>\n",
       "  <tbody>\n",
       "    <tr>\n",
       "      <th>0</th>\n",
       "      <td>29</td>\n",
       "      <td>Female</td>\n",
       "      <td>College degree, bachelor, master</td>\n",
       "      <td>Some College or equivalent</td>\n",
       "      <td>Not employed</td>\n",
       "      <td>Argentina</td>\n",
       "      <td>yes</td>\n",
       "      <td>Tucumán</td>\n",
       "      <td>Single</td>\n",
       "      <td>0.0</td>\n",
       "      <td>...</td>\n",
       "      <td>NaN</td>\n",
       "      <td>NaN</td>\n",
       "      <td>NaN</td>\n",
       "      <td>NaN</td>\n",
       "      <td>NaN</td>\n",
       "      <td>NaN</td>\n",
       "      <td>NaN</td>\n",
       "      <td>NaN</td>\n",
       "      <td>2.9</td>\n",
       "      <td>3</td>\n",
       "    </tr>\n",
       "    <tr>\n",
       "      <th>1</th>\n",
       "      <td>20</td>\n",
       "      <td>Male</td>\n",
       "      <td>College degree, bachelor, master</td>\n",
       "      <td>None</td>\n",
       "      <td>Student</td>\n",
       "      <td>Pakistan</td>\n",
       "      <td>yes</td>\n",
       "      <td>&lt;U+0622&gt;&lt;U+0632&gt;&lt;U+0627&gt;&lt;U+062F&gt; &lt;U+06A9&gt;&lt;U+06...</td>\n",
       "      <td>Single</td>\n",
       "      <td>0.0</td>\n",
       "      <td>...</td>\n",
       "      <td>3.0</td>\n",
       "      <td>5.0</td>\n",
       "      <td>1.0</td>\n",
       "      <td>2.0</td>\n",
       "      <td>3.0</td>\n",
       "      <td>4.0</td>\n",
       "      <td>2.0</td>\n",
       "      <td>3.0</td>\n",
       "      <td>2.2</td>\n",
       "      <td>233.333.333.333.333</td>\n",
       "    </tr>\n",
       "    <tr>\n",
       "      <th>2</th>\n",
       "      <td>47</td>\n",
       "      <td>Female</td>\n",
       "      <td>Some College, short continuing education or eq...</td>\n",
       "      <td>Some College or equivalent</td>\n",
       "      <td>Self-employed</td>\n",
       "      <td>Argentina</td>\n",
       "      <td>no</td>\n",
       "      <td>Córdoba</td>\n",
       "      <td>Single</td>\n",
       "      <td>0.0</td>\n",
       "      <td>...</td>\n",
       "      <td>NaN</td>\n",
       "      <td>NaN</td>\n",
       "      <td>NaN</td>\n",
       "      <td>NaN</td>\n",
       "      <td>NaN</td>\n",
       "      <td>NaN</td>\n",
       "      <td>NaN</td>\n",
       "      <td>NaN</td>\n",
       "      <td>NaN</td>\n",
       "      <td>NaN</td>\n",
       "    </tr>\n",
       "    <tr>\n",
       "      <th>3</th>\n",
       "      <td>79</td>\n",
       "      <td>Male</td>\n",
       "      <td>College degree, bachelor, master</td>\n",
       "      <td>College degree</td>\n",
       "      <td>Not employed</td>\n",
       "      <td>Bulgaria</td>\n",
       "      <td>no</td>\n",
       "      <td>Lovech</td>\n",
       "      <td>Divorced/widowed</td>\n",
       "      <td>0.0</td>\n",
       "      <td>...</td>\n",
       "      <td>3.0</td>\n",
       "      <td>NaN</td>\n",
       "      <td>2.0</td>\n",
       "      <td>5.0</td>\n",
       "      <td>5.0</td>\n",
       "      <td>2.0</td>\n",
       "      <td>5.0</td>\n",
       "      <td>4.0</td>\n",
       "      <td>3.6</td>\n",
       "      <td>4</td>\n",
       "    </tr>\n",
       "    <tr>\n",
       "      <th>4</th>\n",
       "      <td>61</td>\n",
       "      <td>Female</td>\n",
       "      <td>Some College, short continuing education or eq...</td>\n",
       "      <td>Up to 12 years of school</td>\n",
       "      <td>Retired</td>\n",
       "      <td>Argentina</td>\n",
       "      <td>no</td>\n",
       "      <td>Mendoza</td>\n",
       "      <td>Married/cohabiting</td>\n",
       "      <td>0.0</td>\n",
       "      <td>...</td>\n",
       "      <td>5.0</td>\n",
       "      <td>5.0</td>\n",
       "      <td>5.0</td>\n",
       "      <td>5.0</td>\n",
       "      <td>6.0</td>\n",
       "      <td>2.0</td>\n",
       "      <td>2.0</td>\n",
       "      <td>6.0</td>\n",
       "      <td>271.428.571.428.571</td>\n",
       "      <td>1</td>\n",
       "    </tr>\n",
       "  </tbody>\n",
       "</table>\n",
       "<p>5 rows × 95 columns</p>\n",
       "</div>"
      ],
      "text/plain": [
       "   Idade  Genero                                           Educacao  \\\n",
       "0     29  Female                   College degree, bachelor, master   \n",
       "1     20    Male                   College degree, bachelor, master   \n",
       "2     47  Female  Some College, short continuing education or eq...   \n",
       "3     79    Male                   College degree, bachelor, master   \n",
       "4     61  Female  Some College, short continuing education or eq...   \n",
       "\n",
       "                  EducacaoMae      Empregado       Pais Imigrante  \\\n",
       "0  Some College or equivalent   Not employed  Argentina       yes   \n",
       "1                        None        Student   Pakistan       yes   \n",
       "2  Some College or equivalent  Self-employed  Argentina        no   \n",
       "3              College degree   Not employed   Bulgaria        no   \n",
       "4    Up to 12 years of school        Retired  Argentina        no   \n",
       "\n",
       "                                              Estado         EstadoCivil  \\\n",
       "0                                            Tucumán              Single   \n",
       "1  <U+0622><U+0632><U+0627><U+062F> <U+06A9><U+06...              Single   \n",
       "2                                            Córdoba              Single   \n",
       "3                                             Lovech    Divorced/widowed   \n",
       "4                                            Mendoza  Married/cohabiting   \n",
       "\n",
       "   Dependentes  ... ReduzDesconforVerTv ReduzDesconforAjudarOutro  \\\n",
       "0          0.0  ...                 NaN                       NaN   \n",
       "1          0.0  ...                 3.0                       5.0   \n",
       "2          0.0  ...                 NaN                       NaN   \n",
       "3          0.0  ...                 3.0                       NaN   \n",
       "4          0.0  ...                 5.0                       5.0   \n",
       "\n",
       "   InfoGorverno  InfoBlog  InfoTrad  InfoFamiliares  InfoMidiaSoci  \\\n",
       "0           NaN       NaN       NaN             NaN            NaN   \n",
       "1           1.0       2.0       3.0             4.0            2.0   \n",
       "2           NaN       NaN       NaN             NaN            NaN   \n",
       "3           2.0       5.0       5.0             2.0            5.0   \n",
       "4           5.0       5.0       6.0             2.0            2.0   \n",
       "\n",
       "   InfoComportPessoal            PSS10_avg            SLON3_avg  \n",
       "0                 NaN                  2.9                    3  \n",
       "1                 3.0                  2.2  233.333.333.333.333  \n",
       "2                 NaN                  NaN                  NaN  \n",
       "3                 4.0                  3.6                    4  \n",
       "4                 6.0  271.428.571.428.571                    1  \n",
       "\n",
       "[5 rows x 95 columns]"
      ]
     },
     "metadata": {},
     "execution_count": 11
    }
   ],
   "metadata": {}
  },
  {
   "cell_type": "code",
   "execution_count": null,
   "source": [
    "generos_n_binarios = []\r\n",
    "for i in range(len(dados)):\r\n",
    "    if(dados['Genero'][i] != 'Male' and dados['Genero'][i] != 'Female'):\r\n",
    "        generos_n_binarios.append(dados['Genero'][i])"
   ],
   "outputs": [],
   "metadata": {}
  },
  {
   "cell_type": "code",
   "execution_count": null,
   "source": [
    "print(generos_n_binarios)"
   ],
   "outputs": [],
   "metadata": {}
  }
 ],
 "metadata": {
  "kernelspec": {
   "name": "python3",
   "display_name": "Python 3.9.5 64-bit"
  },
  "language_info": {
   "codemirror_mode": {
    "name": "ipython",
    "version": 3
   },
   "file_extension": ".py",
   "mimetype": "text/x-python",
   "name": "python",
   "nbconvert_exporter": "python",
   "pygments_lexer": "ipython3",
   "version": "3.9.5"
  },
  "interpreter": {
   "hash": "efd970dff30cdc752a75f40c9e99d768ed073b4b63d24713c2392a211e5a028c"
  }
 },
 "nbformat": 4,
 "nbformat_minor": 5
}